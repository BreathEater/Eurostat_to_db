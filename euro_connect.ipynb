{
 "cells": [
  {
   "cell_type": "code",
   "execution_count": 57,
   "metadata": {},
   "outputs": [],
   "source": [
    "\n",
    "import pandas as pd\n",
    "import eurostat\n",
    "import sqlalchemy\n",
    "import sqlite3\n"
   ]
  },
  {
   "cell_type": "code",
   "execution_count": 59,
   "metadata": {},
   "outputs": [],
   "source": [
    "engine = sqlalchemy.create_engine('sqlite:///eurostat.db')"
   ]
  },
  {
   "cell_type": "code",
   "execution_count": 24,
   "metadata": {},
   "outputs": [],
   "source": [
    "toc = eurostat.get_toc_df()"
   ]
  },
  {
   "cell_type": "code",
   "execution_count": 33,
   "metadata": {},
   "outputs": [
    {
     "name": "stdout",
     "output_type": "stream",
     "text": [
      "                                                title          code     type  \\\n",
      "0                                  Database by themes          data   folder   \n",
      "1                     General and regional statistics       general   folder   \n",
      "2   European and national indicators for short-ter...       euroind   folder   \n",
      "3    Business and consumer surveys (source: DG ECFIN)        ei_bcs   folder   \n",
      "4                 Consumer surveys (source: DG ECFIN)     ei_bcs_cs   folder   \n",
      "5                            Consumers - monthly data     ei_bsco_m  dataset   \n",
      "6                          Consumers - quarterly data     ei_bsco_q  dataset   \n",
      "7   Business surveys - NACE Rev. 2 activity (sourc...     ei_bcs_bs   folder   \n",
      "8                             Industry - monthly data  ei_bsin_m_r2  dataset   \n",
      "9                           Industry - quarterly data  ei_bsin_q_r2  dataset   \n",
      "10                        Construction - monthly data  ei_bsbu_m_r2  dataset   \n",
      "11                      Construction - quarterly data  ei_bsbu_q_r2  dataset   \n",
      "12                         Retail sale - monthly data  ei_bsrt_m_r2  dataset   \n",
      "13                Sentiment indicators - monthly data  ei_bssi_m_r2  dataset   \n",
      "14                            Services - monthly data  ei_bsse_m_r2  dataset   \n",
      "\n",
      "   last update of data last table structure change data start data end  \n",
      "0                                                                       \n",
      "1                                                                       \n",
      "2                                                                       \n",
      "3                                                                       \n",
      "4                                                                       \n",
      "5           07.01.2022                  07.01.2022    1980M01  2021M12  \n",
      "6           07.01.2022                  28.10.2021     1990Q1   2021Q4  \n",
      "7                                                                       \n",
      "8           07.01.2022                  07.01.2022    1980M01  2021M12  \n",
      "9           07.01.2022                  28.10.2021     1980Q1   2021Q4  \n",
      "10          07.01.2022                  07.01.2022    1980M01  2021M12  \n",
      "11          07.01.2022                  28.10.2021     1981Q1   2021Q4  \n",
      "12          07.01.2022                  07.01.2022    1984M01  2021M12  \n",
      "13          07.01.2022                  07.01.2022    1980M01  2021M12  \n",
      "14          07.01.2022                  07.01.2022    1988M01  2021M12  \n"
     ]
    }
   ],
   "source": [
    "print(toc[0:15])"
   ]
  },
  {
   "cell_type": "code",
   "execution_count": 34,
   "metadata": {},
   "outputs": [],
   "source": [
    "# toc_csv = toc.to_excel('eurostat_toc.xlsx')\n"
   ]
  },
  {
   "cell_type": "code",
   "execution_count": 61,
   "metadata": {},
   "outputs": [
    {
     "data": {
      "text/html": [
       "<div>\n",
       "<style scoped>\n",
       "    .dataframe tbody tr th:only-of-type {\n",
       "        vertical-align: middle;\n",
       "    }\n",
       "\n",
       "    .dataframe tbody tr th {\n",
       "        vertical-align: top;\n",
       "    }\n",
       "\n",
       "    .dataframe thead th {\n",
       "        text-align: right;\n",
       "    }\n",
       "</style>\n",
       "<table border=\"1\" class=\"dataframe\">\n",
       "  <thead>\n",
       "    <tr style=\"text-align: right;\">\n",
       "      <th></th>\n",
       "      <th>unit_short</th>\n",
       "      <th>unit_long</th>\n",
       "    </tr>\n",
       "  </thead>\n",
       "  <tbody>\n",
       "  </tbody>\n",
       "</table>\n",
       "</div>"
      ],
      "text/plain": [
       "Empty DataFrame\n",
       "Columns: [unit_short, unit_long]\n",
       "Index: []"
      ]
     },
     "execution_count": 61,
     "metadata": {},
     "output_type": "execute_result"
    }
   ],
   "source": [
    "# read eurostat db SQL to see if all works well.\n",
    "\n",
    "pd.read_sql('units', engine)\n"
   ]
  },
  {
   "cell_type": "code",
   "execution_count": null,
   "metadata": {},
   "outputs": [],
   "source": []
  },
  {
   "cell_type": "code",
   "execution_count": 40,
   "metadata": {},
   "outputs": [
    {
     "name": "stdout",
     "output_type": "stream",
     "text": [
      "   agrarea arable unit    indic_ef geo\\time   2005   2007   2010   2013\n",
      "65   TOTAL  TOTAL  THS  B_1_2_HOLD       BE   0.52   0.33   0.40   0.33\n",
      "66   TOTAL  TOTAL  THS  B_1_2_HOLD       BG  50.55  36.60  21.63  16.65\n",
      "67   TOTAL  TOTAL  THS  B_1_2_HOLD       CH   2.75   2.88   1.95    NaN\n",
      "68   TOTAL  TOTAL  THS  B_1_2_HOLD       CY   1.23   0.62   0.70   0.65\n",
      "69   TOTAL  TOTAL  THS  B_1_2_HOLD       CZ   1.75   1.38   1.20   0.90\n",
      "70   TOTAL  TOTAL  THS  B_1_2_HOLD       DE  17.62  12.67  11.75   9.02\n",
      "71   TOTAL  TOTAL  THS  B_1_2_HOLD       DK   1.82   0.66   0.79   0.62\n",
      "72   TOTAL  TOTAL  THS  B_1_2_HOLD       EE   0.62   0.81   0.50   0.72\n",
      "73   TOTAL  TOTAL  THS  B_1_2_HOLD       EL  15.71  17.83  11.06  13.82\n",
      "74   TOTAL  TOTAL  THS  B_1_2_HOLD       ES  54.22  34.69  33.54  33.46\n"
     ]
    }
   ],
   "source": [
    "# test table, units and indic_ef columns represent the need for a Relational Database Model\n",
    "\n",
    "agro_by_crops = eurostat.get_data_df('tag00007')\n",
    "print(agro_by_crops[65:75])"
   ]
  },
  {
   "cell_type": "code",
   "execution_count": 41,
   "metadata": {},
   "outputs": [],
   "source": [
    "agro_by_crops_excel = agro_by_crops.to_excel('agro_by_crops.xlsx')"
   ]
  },
  {
   "cell_type": "code",
   "execution_count": 78,
   "metadata": {},
   "outputs": [
    {
     "name": "stdout",
     "output_type": "stream",
     "text": [
      "     unit       unit_description\n",
      "0   TOTAL                  Total\n",
      "1      NR                 Number\n",
      "2  NR_HAB  Number per inhabitant\n",
      "3     THS               Thousand\n",
      "4     MIO                Million\n"
     ]
    }
   ],
   "source": [
    "euro_dic = eurostat.get_dic('unit')\n",
    "units_df = pd.DataFrame(list(euro_dic.items()), columns = ['unit', 'unit_description'])\n",
    "print(units_df.head())"
   ]
  },
  {
   "cell_type": "code",
   "execution_count": 80,
   "metadata": {},
   "outputs": [],
   "source": [
    "# insert euro_dic into units table in db\n",
    "\n",
    "units_df.to_sql('units', engine, if_exists = 'append', index = False)"
   ]
  },
  {
   "cell_type": "code",
   "execution_count": 81,
   "metadata": {},
   "outputs": [
    {
     "data": {
      "text/html": [
       "<div>\n",
       "<style scoped>\n",
       "    .dataframe tbody tr th:only-of-type {\n",
       "        vertical-align: middle;\n",
       "    }\n",
       "\n",
       "    .dataframe tbody tr th {\n",
       "        vertical-align: top;\n",
       "    }\n",
       "\n",
       "    .dataframe thead th {\n",
       "        text-align: right;\n",
       "    }\n",
       "</style>\n",
       "<table border=\"1\" class=\"dataframe\">\n",
       "  <thead>\n",
       "    <tr style=\"text-align: right;\">\n",
       "      <th></th>\n",
       "      <th>unit</th>\n",
       "      <th>unit_description</th>\n",
       "    </tr>\n",
       "  </thead>\n",
       "  <tbody>\n",
       "    <tr>\n",
       "      <th>0</th>\n",
       "      <td>TOTAL</td>\n",
       "      <td>Total</td>\n",
       "    </tr>\n",
       "    <tr>\n",
       "      <th>1</th>\n",
       "      <td>NR</td>\n",
       "      <td>Number</td>\n",
       "    </tr>\n",
       "    <tr>\n",
       "      <th>2</th>\n",
       "      <td>NR_HAB</td>\n",
       "      <td>Number per inhabitant</td>\n",
       "    </tr>\n",
       "    <tr>\n",
       "      <th>3</th>\n",
       "      <td>THS</td>\n",
       "      <td>Thousand</td>\n",
       "    </tr>\n",
       "    <tr>\n",
       "      <th>4</th>\n",
       "      <td>MIO</td>\n",
       "      <td>Million</td>\n",
       "    </tr>\n",
       "    <tr>\n",
       "      <th>...</th>\n",
       "      <td>...</td>\n",
       "      <td>...</td>\n",
       "    </tr>\n",
       "    <tr>\n",
       "      <th>682</th>\n",
       "      <td>PD_PCH_SM_NAC</td>\n",
       "      <td>Price index (implicit deflator), percentage ch...</td>\n",
       "    </tr>\n",
       "    <tr>\n",
       "      <th>683</th>\n",
       "      <td>CRC_MEUR</td>\n",
       "      <td>Current replacement costs, million euro</td>\n",
       "    </tr>\n",
       "    <tr>\n",
       "      <th>684</th>\n",
       "      <td>CRC_MNAC</td>\n",
       "      <td>Current replacement costs, million units of na...</td>\n",
       "    </tr>\n",
       "    <tr>\n",
       "      <th>685</th>\n",
       "      <td>PYR_MEUR</td>\n",
       "      <td>Previous year replacement costs, million euro</td>\n",
       "    </tr>\n",
       "    <tr>\n",
       "      <th>686</th>\n",
       "      <td>PYR_MNAC</td>\n",
       "      <td>Previous year replacement costs, million units...</td>\n",
       "    </tr>\n",
       "  </tbody>\n",
       "</table>\n",
       "<p>687 rows × 2 columns</p>\n",
       "</div>"
      ],
      "text/plain": [
       "              unit                                   unit_description\n",
       "0            TOTAL                                              Total\n",
       "1               NR                                             Number\n",
       "2           NR_HAB                              Number per inhabitant\n",
       "3              THS                                           Thousand\n",
       "4              MIO                                            Million\n",
       "..             ...                                                ...\n",
       "682  PD_PCH_SM_NAC  Price index (implicit deflator), percentage ch...\n",
       "683       CRC_MEUR            Current replacement costs, million euro\n",
       "684       CRC_MNAC  Current replacement costs, million units of na...\n",
       "685       PYR_MEUR      Previous year replacement costs, million euro\n",
       "686       PYR_MNAC  Previous year replacement costs, million units...\n",
       "\n",
       "[687 rows x 2 columns]"
      ]
     },
     "execution_count": 81,
     "metadata": {},
     "output_type": "execute_result"
    }
   ],
   "source": [
    "pd.read_sql('units', engine)"
   ]
  }
 ],
 "metadata": {
  "interpreter": {
   "hash": "6f37c804ed1b5b650712d77b292b0c7c292f31bf3a49a55a7fbe49d85006f07f"
  },
  "kernelspec": {
   "display_name": "Python 3.8.5 64-bit ('base': conda)",
   "language": "python",
   "name": "python3"
  },
  "language_info": {
   "codemirror_mode": {
    "name": "ipython",
    "version": 3
   },
   "file_extension": ".py",
   "mimetype": "text/x-python",
   "name": "python",
   "nbconvert_exporter": "python",
   "pygments_lexer": "ipython3",
   "version": "3.8.5"
  },
  "orig_nbformat": 4
 },
 "nbformat": 4,
 "nbformat_minor": 2
}
